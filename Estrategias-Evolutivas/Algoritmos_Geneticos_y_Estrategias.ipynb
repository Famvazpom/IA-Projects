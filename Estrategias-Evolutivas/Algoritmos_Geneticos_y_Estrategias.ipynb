{
 "cells": [
  {
   "cell_type": "code",
   "execution_count": 1,
   "metadata": {},
   "outputs": [],
   "source": [
    "import numpy as np\n",
    "import matplotlib.pyplot as plt\n",
    "from matplotlib import cm\n",
    "from mpl_toolkits.mplot3d import Axes3D\n",
    "from matplotlib.ticker import LinearLocator, FormatStrFormatter\n",
    "from random import random, sample, randint\n",
    "#%matplotlib inline"
   ]
  },
  {
   "cell_type": "code",
   "execution_count": 34,
   "metadata": {},
   "outputs": [],
   "source": [
    "def Create_Pob(p_size,n_var):\n",
    "    pop = []\n",
    "    \n",
    "    for i in range(p_size):\n",
    "        pop.append(np.array(np.random.normal(size=n_var)))\n",
    "    return pop    \n",
    "    \n",
    "pop_size = 10\n",
    "n_vars = 2\n",
    "Po = Create_Pob(pop_size,n_vars)"
   ]
  },
  {
   "cell_type": "code",
   "execution_count": 36,
   "metadata": {},
   "outputs": [],
   "source": [
    "def Aptitude(I):\n",
    "    [x1,x2] = Ind2Number(I,v_min,v_max,n_var,n_bits)\n",
    "    r = 20+x1**2+x2**2-10*np.cos(2*np.pi*x1)-10*np.cos(2*np.pi*x2)\n",
    "    return 1.0/(1.0+0.1*r)"
   ]
  },
  {
   "cell_type": "code",
   "execution_count": 87,
   "metadata": {},
   "outputs": [
    {
     "name": "stdout",
     "output_type": "stream",
     "text": [
      "[[ 1.85366876 -1.24688334]\n",
      " [ 0.11515974  0.84532829]\n",
      " [-1.35707511  1.15458098]\n",
      " [-1.81655177  0.76304274]\n",
      " [-0.12182594  0.31988016]]\n",
      "[[-0.39278881  0.71551478]\n",
      " [ 1.85366876 -1.24688334]\n",
      " [ 0.57606878  0.40132473]\n",
      " [ 0.29126232 -1.06365887]\n",
      " [ 0.11515974  0.84532829]]\n",
      "[array([-0.26532487,  0.36718976]), array([ 0.48867416, -0.06967488])]\n"
     ]
    }
   ],
   "source": [
    "def Evo(parents,child_size,ro,sd):\n",
    "    childs = []\n",
    "    for i in range(child_size):\n",
    "        p = np.array(sample(parents,ro))\n",
    "        print p\n",
    "        childs.append(np.array([np.sum(p[:,0])/len(p),np.sum(p[:,1])/len(p)]))\n",
    "    print childs\n",
    "\n",
    "Evo(Po,2,5,5)"
   ]
  }
 ],
 "metadata": {
  "kernelspec": {
   "display_name": "Python 2",
   "language": "python",
   "name": "python2"
  },
  "language_info": {
   "codemirror_mode": {
    "name": "ipython",
    "version": 2
   },
   "file_extension": ".py",
   "mimetype": "text/x-python",
   "name": "python",
   "nbconvert_exporter": "python",
   "pygments_lexer": "ipython2",
   "version": "2.7.16"
  }
 },
 "nbformat": 4,
 "nbformat_minor": 2
}
