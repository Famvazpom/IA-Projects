{
 "cells": [
  {
   "cell_type": "code",
   "execution_count": 1,
   "metadata": {},
   "outputs": [],
   "source": [
    "import numpy as np"
   ]
  },
  {
   "cell_type": "code",
   "execution_count": 60,
   "metadata": {},
   "outputs": [
    {
     "name": "stdout",
     "output_type": "stream",
     "text": [
      "Hello (0, 0)\n",
      "[(0, 0), (0, 1), (0, 2), (0, 3), (1, 0), (1, 1), (2, 0), (2, 2), (3, 0), (3, 3)]\n"
     ]
    }
   ],
   "source": [
    "class Board:\n",
    "    board = []    # Tablero\n",
    "    n = None      # Cantidad de reinas\n",
    "    parent = None # Apuntador al nodo padre\n",
    "    queens = None   # Posicion de las reinas\n",
    "    constrataints = None #Posiciones que no pueden usarse\n",
    "    \n",
    "    def __init__(self,n,board,parent = None,queens = [], constrataints = []):\n",
    "        \n",
    "        self.n = n\n",
    "        self.board = board\n",
    "        self.parent = parent\n",
    "        self.queens = queens\n",
    "        self.constrataints = constrataints\n",
    "    \n",
    "    def getConstrataints(self,pos):\n",
    "        # Esta funcion obtiene las posiciones que no pueden ser usadas\n",
    "        (i,j) = pos\n",
    "        print \"Hello\",pos   \n",
    "        \n",
    "        #Agrega todos los de la misma columna\n",
    "        while i < self.n:\n",
    "            if not (i,j) in self.constrataints:\n",
    "                self.constrataints.append((i,j))\n",
    "            i+=1\n",
    "        \n",
    "        (i,j) = pos\n",
    "        while i >= 0:\n",
    "            if not (i,j) in self.constrataints:\n",
    "                self.constrataints.append((i,j))\n",
    "            i-=1\n",
    "        \n",
    "        #Agrega las posiciones de la misma fila\n",
    "        (i,j) = pos\n",
    "        while j < self.n:\n",
    "            if not (i,j) in self.constrataints:\n",
    "                self.constrataints.append((i,j))\n",
    "            j+=1\n",
    "        \n",
    "        (i,j) = pos\n",
    "        while j >= 0:\n",
    "            if not (i,j) in self.constrataints:\n",
    "                self.constrataints.append((i,j))\n",
    "            j-=1\n",
    "            \n",
    "        #Agrega las posiciones de la diagonal izquierda hacia arriba\n",
    "        (i,j) = pos\n",
    "        while j >= 0 and i >= 0:\n",
    "            if not (i,j) in self.constrataints:\n",
    "                self.constrataints.append((i,j))\n",
    "            j-=1\n",
    "            i-=1\n",
    "        \n",
    "        #Agrega las posiciones de la diagonal izquierda hacia arriba\n",
    "        (i,j) = pos\n",
    "        while j >= 0 and i < n:\n",
    "            if not (i,j) in self.constrataints:\n",
    "                self.constrataints.append((i,j))\n",
    "            j-=1\n",
    "            i+=1\n",
    "            \n",
    "        (i,j) = pos\n",
    "        while j < n and i >= 0:\n",
    "            if not (i,j) in self.constrataints:\n",
    "                self.constrataints.append((i,j))\n",
    "            j+=1\n",
    "            i-=1\n",
    "            \n",
    "        #Agrega las posiciones de la diagonal derecha hacia abajo\n",
    "        (i,j) = pos\n",
    "        while j < n and i <n:\n",
    "            if not (i,j) in self.constrataints:\n",
    "                self.constrataints.append((i,j))\n",
    "            j+=1\n",
    "            i+=1\n",
    "        self.constrataints = sorted(self.constrataints,key= lambda x: x[0])\n",
    "        print self.constrataints\n",
    "    \n",
    "    \n",
    "    \n",
    "    def getNeighbours(self):\n",
    "        print self.board       \n",
    "        \n",
    "\n",
    "        \n",
    "n = 4\n",
    "n_queens = Board(n,np.zeros((n,n)))\n",
    "n_queens.getConstrataints((0,0))"
   ]
  },
  {
   "cell_type": "code",
   "execution_count": 57,
   "metadata": {},
   "outputs": [
    {
     "data": {
      "text/plain": [
       "array([[1., 0., 0., 0.],\n",
       "       [0., 0., 0., 0.],\n",
       "       [0., 0., 0., 0.],\n",
       "       [0., 0., 0., 0.]])"
      ]
     },
     "execution_count": 57,
     "metadata": {},
     "output_type": "execute_result"
    }
   ],
   "source": [
    "n_queens.board[0,0] = 1\n",
    "n_queens.board"
   ]
  }
 ],
 "metadata": {
  "kernelspec": {
   "display_name": "Python 2",
   "language": "python",
   "name": "python2"
  },
  "language_info": {
   "codemirror_mode": {
    "name": "ipython",
    "version": 2
   },
   "file_extension": ".py",
   "mimetype": "text/x-python",
   "name": "python",
   "nbconvert_exporter": "python",
   "pygments_lexer": "ipython2",
   "version": "2.7.16"
  }
 },
 "nbformat": 4,
 "nbformat_minor": 2
}
