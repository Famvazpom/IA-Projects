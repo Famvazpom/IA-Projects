{
 "cells": [
  {
   "cell_type": "code",
   "execution_count": 227,
   "metadata": {},
   "outputs": [],
   "source": [
    "import numpy as np"
   ]
  },
  {
   "cell_type": "code",
   "execution_count": 228,
   "metadata": {},
   "outputs": [],
   "source": [
    "class n_queens:\n",
    "    board = []\n",
    "    n = None\n",
    "    queens = None\n",
    "    \n",
    "    def __init__(self,n,board,queens = []):\n",
    "        self.board = board\n",
    "        self.n = n\n",
    "        self.queens = queens\n",
    "     \n",
    "    def getDiagonals(self,pos):\n",
    "        \n",
    "        row,col = pos\n",
    "        diag = []\n",
    "        \n",
    "        for i,j in zip(range(row,self.n),range(col,self.n)):\n",
    "            if (i,j) != pos:\n",
    "                diag.append((i,j))\n",
    "        \n",
    "        for i,j in zip(range(row,-1,-1),range(col,-1,-1)):\n",
    "            if (i,j) != pos:\n",
    "                diag.append((i,j))\n",
    "                \n",
    "        for i,j in zip(range(row,-1,-1),range(col,self.n)):\n",
    "            if (i,j) != pos:\n",
    "                diag.append((i,j))\n",
    "       \n",
    "        for i,j in zip(range(row,self.n),range(col,-1,-1)):\n",
    "            if (i,j) != pos:\n",
    "                diag.append((i,j))\n",
    "        \n",
    "        diag = sorted(diag,key = lambda x : x[0])\n",
    "        return diag   \n",
    "    \n",
    "    def getRows(self,queen):\n",
    "        rows = []\n",
    "        row = queen[0]\n",
    "        for i in range(self.n):\n",
    "            rows.append((row,i))\n",
    "        return rows\n",
    "\n",
    "    def getColumns(self,queen):\n",
    "        cols = []\n",
    "        col = queen[1]\n",
    "        for i in range(self.n):\n",
    "            cols.append((i,col))\n",
    "        \n",
    "        return cols\n",
    "    \n",
    "    def isSafe(self,queen):\n",
    "\n",
    "        \n",
    "        for i in self.getRows(queen):\n",
    "            if self.board[i] == 1 and i != queen:\n",
    "                return False\n",
    "        \n",
    "        for i in self.getColumns(queen):\n",
    "            if self.board[i] == 1 and i != queen:\n",
    "                return False\n",
    "        \n",
    "        for i in self.getDiagonals(queen):\n",
    "            if self.board[i] == 1 and i != queen:\n",
    "                return False\n",
    "        return True\n",
    "    \n",
    "    def isGoal(self):\n",
    "        \n",
    "        if len(self.queens) == self.n:\n",
    "            for queen in self.queens:\n",
    "                if not self.isSafe(queen):\n",
    "                    print queen\n",
    "                    return False\n",
    "            return True"
   ]
  },
  {
   "cell_type": "code",
   "execution_count": 229,
   "metadata": {},
   "outputs": [],
   "source": [
    "class BackTracking(n_queens):\n",
    "    neighbours = None\n",
    "    \n",
    "    def __init__(self,n,board,queens = []):\n",
    "        n_queens.__init__(self,n,board,queens)\n",
    "        #return None\n",
    "    \n",
    "    def getNeighbours(self):\n",
    "        self.neighbours = []\n",
    "        for i in range(self.n):\n",
    "            for j in range(self.n):\n",
    "                if not (i,j) in self.queens:\n",
    "                    self.neighbours.append((i,j))\n"
   ]
  },
  {
   "cell_type": "code",
   "execution_count": 241,
   "metadata": {},
   "outputs": [
    {
     "name": "stdout",
     "output_type": "stream",
     "text": [
      "[[0. 1. 0. 0.]\n",
      " [0. 0. 0. 1.]\n",
      " [1. 0. 0. 0.]\n",
      " [0. 0. 1. 0.]]\n"
     ]
    }
   ],
   "source": [
    "def executeBack(node):\n",
    "    \n",
    "    if node.isGoal():\n",
    "        return node\n",
    "    \n",
    "    node.getNeighbours()\n",
    "    \n",
    "    for new in node.neighbours:\n",
    "        if node.isSafe(new):\n",
    "            board = node.board.copy()\n",
    "            queens = node.queens[:]\n",
    "            \n",
    "            board[new] = 1\n",
    "            queens.append(new)\n",
    "            newobj = BackTracking(node.n,board,queens)\n",
    "            \n",
    "            final_node = executeBack(newobj)\n",
    "            \n",
    "            if final_node:\n",
    "                return final_node\n",
    "    return False\n",
    "\n",
    "        \n",
    "\n",
    "n = 4   \n",
    "back = BackTracking(n,np.zeros((n,n)))\n",
    "p = executeBack(back)\n",
    "if p:\n",
    "    print p.board\n"
   ]
  },
  {
   "cell_type": "code",
   "execution_count": 243,
   "metadata": {},
   "outputs": [
    {
     "name": "stdout",
     "output_type": "stream",
     "text": [
      "0 0\n",
      "0 1\n",
      "0 2\n",
      "0 3\n",
      "1 0\n",
      "1 1\n",
      "1 2\n",
      "1 3\n",
      "2 0\n",
      "2 1\n",
      "2 2\n",
      "2 3\n",
      "3 0\n",
      "3 1\n",
      "3 2\n",
      "3 3\n"
     ]
    }
   ],
   "source": [
    "class MRV(BackTracking):\n",
    "    remaining = None\n",
    "    \n",
    "    def __init__(self,n,board,queens = []):\n",
    "        BackTracking.__init__(self,n,board,queens)\n",
    "\n",
    "    \n",
    "    def getRemainingValues(self,pos):\n",
    "        board = self.board.copy()\n",
    "        rows = self.getRows(pos)\n",
    "        cols = self.getColumns(pos)\n",
    "        diags = self.get\n",
    "        \n",
    "        for i in range(self.n):\n",
    "            for j in range(self.n):\n",
    "                print i,j\n",
    "        \n",
    "        return\n",
    "\n",
    "p = MRV(n,np.zeros((n,n)))\n",
    "p.getRemainingValues((0,0))"
   ]
  },
  {
   "cell_type": "code",
   "execution_count": null,
   "metadata": {},
   "outputs": [],
   "source": []
  },
  {
   "cell_type": "code",
   "execution_count": null,
   "metadata": {},
   "outputs": [],
   "source": []
  },
  {
   "cell_type": "code",
   "execution_count": 232,
   "metadata": {},
   "outputs": [
    {
     "ename": "TypeError",
     "evalue": "__init__() takes at least 3 arguments (2 given)",
     "output_type": "error",
     "traceback": [
      "\u001b[0;31m---------------------------------------------------------------------------\u001b[0m",
      "\u001b[0;31mTypeError\u001b[0m                                 Traceback (most recent call last)",
      "\u001b[0;32m<ipython-input-232-d4ef51a8793d>\u001b[0m in \u001b[0;36m<module>\u001b[0;34m()\u001b[0m\n\u001b[1;32m     18\u001b[0m \u001b[0mn\u001b[0m \u001b[0;34m=\u001b[0m \u001b[0;36m5\u001b[0m\u001b[0;34m\u001b[0m\u001b[0m\n\u001b[1;32m     19\u001b[0m \u001b[0mn_queen\u001b[0m \u001b[0;34m=\u001b[0m \u001b[0mBoard\u001b[0m\u001b[0;34m(\u001b[0m\u001b[0mn\u001b[0m\u001b[0;34m,\u001b[0m\u001b[0mnp\u001b[0m\u001b[0;34m.\u001b[0m\u001b[0mzeros\u001b[0m\u001b[0;34m(\u001b[0m\u001b[0;34m(\u001b[0m\u001b[0mn\u001b[0m\u001b[0;34m,\u001b[0m\u001b[0mn\u001b[0m\u001b[0;34m)\u001b[0m\u001b[0;34m)\u001b[0m\u001b[0;34m)\u001b[0m\u001b[0;34m\u001b[0m\u001b[0m\n\u001b[0;32m---> 20\u001b[0;31m \u001b[0;32mprint\u001b[0m \u001b[0mDEGREE\u001b[0m\u001b[0;34m(\u001b[0m\u001b[0mn_queen\u001b[0m\u001b[0;34m)\u001b[0m\u001b[0;34m.\u001b[0m\u001b[0mqueens\u001b[0m\u001b[0;34m\u001b[0m\u001b[0m\n\u001b[0m",
      "\u001b[0;32m<ipython-input-232-d4ef51a8793d>\u001b[0m in \u001b[0;36mDEGREE\u001b[0;34m(node)\u001b[0m\n\u001b[1;32m      9\u001b[0m     \u001b[0;32mfor\u001b[0m \u001b[0mnew\u001b[0m \u001b[0;32min\u001b[0m \u001b[0mnode\u001b[0m\u001b[0;34m.\u001b[0m\u001b[0mneighbours\u001b[0m\u001b[0;34m:\u001b[0m\u001b[0;34m\u001b[0m\u001b[0m\n\u001b[1;32m     10\u001b[0m \u001b[0;34m\u001b[0m\u001b[0m\n\u001b[0;32m---> 11\u001b[0;31m         \u001b[0mfinal_node\u001b[0m \u001b[0;34m=\u001b[0m \u001b[0mBackTracking\u001b[0m\u001b[0;34m(\u001b[0m\u001b[0mnew\u001b[0m\u001b[0;34m)\u001b[0m\u001b[0;34m\u001b[0m\u001b[0m\n\u001b[0m\u001b[1;32m     12\u001b[0m \u001b[0;34m\u001b[0m\u001b[0m\n\u001b[1;32m     13\u001b[0m         \u001b[0;32mif\u001b[0m \u001b[0mfinal_node\u001b[0m\u001b[0;34m:\u001b[0m\u001b[0;34m\u001b[0m\u001b[0m\n",
      "\u001b[0;31mTypeError\u001b[0m: __init__() takes at least 3 arguments (2 given)"
     ]
    }
   ],
   "source": [
    "def DEGREE(node):\n",
    "    \n",
    "    if node.isGoal():\n",
    "        return node\n",
    "    \n",
    "    node.getNeighbours()\n",
    "    node.neighbours = sorted(node.neighbours,key = lambda x: len(x.constrataints),reverse = True)\n",
    "    \n",
    "    for new in node.neighbours:\n",
    "\n",
    "        final_node = BackTracking(new)\n",
    "        \n",
    "        if final_node:\n",
    "            return final_node\n",
    "    \n",
    "    return False\n",
    "    \n",
    "n = 5\n",
    "n_queen = Board(n,np.zeros((n,n)))\n",
    "print DEGREE(n_queen).queens\n"
   ]
  },
  {
   "cell_type": "code",
   "execution_count": null,
   "metadata": {},
   "outputs": [],
   "source": [
    "def MRV(node):\n",
    "    \n",
    "    if node.isGoal():\n",
    "        return node\n",
    "    \n",
    "    node.getNeighbours()\n",
    "    node.neighbours = sorted(node.neighbours,key = lambda x: len(x.constrataints))\n",
    "    \n",
    "    for new in node.neighbours:\n",
    "\n",
    "        final_node = BackTracking(new)\n",
    "        \n",
    "        if final_node:\n",
    "            return final_node\n",
    "    \n",
    "    return False\n",
    "n = 5\n",
    "n_queen = Board(n,np.zeros((n,n)))\n",
    "print MRV(n_queen).queens\n"
   ]
  }
 ],
 "metadata": {
  "kernelspec": {
   "display_name": "Python 2",
   "language": "python",
   "name": "python2"
  },
  "language_info": {
   "codemirror_mode": {
    "name": "ipython",
    "version": 2
   },
   "file_extension": ".py",
   "mimetype": "text/x-python",
   "name": "python",
   "nbconvert_exporter": "python",
   "pygments_lexer": "ipython2",
   "version": "2.7.16"
  }
 },
 "nbformat": 4,
 "nbformat_minor": 2
}
