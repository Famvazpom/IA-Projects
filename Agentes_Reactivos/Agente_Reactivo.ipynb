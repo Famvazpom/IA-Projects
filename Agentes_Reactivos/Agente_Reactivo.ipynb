{
 "cells": [
  {
   "cell_type": "code",
   "execution_count": 1,
   "metadata": {},
   "outputs": [],
   "source": [
    "import numpy as np\n",
    "import cv2\n",
    "import matplotlib.pyplot as plt\n",
    "plt.rcParams[\"figure.figsize\"]=10,10"
   ]
  },
  {
   "cell_type": "markdown",
   "metadata": {},
   "source": [
    "# Agentes Reactivos\n",
    "En este NoteBook se implementaran los agentes:\n",
    "<ul>\n",
    "    <li> Evita obstaculos </li>\n",
    "    <li> Seguidor de bordes </li>\n",
    "</ul>\n",
    "\n",
    "Los cuales estaran implementados en el siguiente ambiente\n",
    "\n",
    "![title](enviroment.png)\n",
    "\n",
    "De los cuales:\n",
    "<ul>\n",
    "    <li>\n",
    "        Los espacios vacios estaran logicamente representado con 0 \n",
    "    </li>\n",
    "    <li>\n",
    "        Los ocupados por su parte con 1\n",
    "    </li>\n",
    "   </ul>\n",
    "<br>\n",
    "\n",
    "### Sensores\n",
    "Para ambos agentes se considera el sensor que llamaremos estado, este sensor contiene la informacion de sus 8 vecinos comenzando desde el vecino superior izquierdo al que llamaremos S1 y continuando en sentido horario.\n",
    "\n",
    "![title](estado.png)\n",
    "\n",
    "### Actuadores\n",
    "De la misma forma, para ambos agentes se considerara un actuador que se encargara de realizar su movimiento en la direccion que dependera del estado que se encuentre el agente\n"
   ]
  },
  {
   "cell_type": "markdown",
   "metadata": {},
   "source": [
    "### Agente Evita obstaculos - Implementacion\n",
    "Para este agente su sistema de produccion es sencillo.\n",
    "\n",
    "Se tienen 5 casos para considerar con este agente:\n",
    "<ul>\n",
    "    <li> Cuando S2 no se encuentra ocupado se movera al Norte</li>\n",
    "    <li> Cuando S4 no se encuentra ocupado se movera al Este</li>\n",
    "    <li> Cuando S6 no se encuentra ocupado se movera al Sur</li>\n",
    "    <li> Cuando S8 no se encuentra ocupado se movera al Oeste</li>\n",
    "    <li> Cuando ninguno de estos se cumpla simplemente se quedara en su lugar</li>\n",
    "</ul>\n",
    "\n",
    "Por lo que en este caso su unidad logica quedaria representada de la siguiente manera para el caso uno:\n",
    "    \n",
    "$$ \\overline{S_2} $$\n",
    "\n",
    "\n"
   ]
  },
  {
   "cell_type": "markdown",
   "metadata": {},
   "source": [
    "### Agente Sigue Bordes - Implementacion\n",
    "Se crearan algunos patrones para este sistema:\n",
    "![title](SBprod.png)\n",
    "\n",
    "Por lo que sabemos que:\n",
    "    $$ X_1 = \\{ S_2, S_3 \\} $$\n",
    "    $$ X_2 = \\{ S_4, S_5 \\} $$\n",
    "    $$ X_3 = \\{ S_6, S_7 \\} $$\n",
    "    $$ X_4 = \\{ S_8, S_1 \\} $$\n",
    "    \n",
    "Con estos patrones ponemos definir diversas condiciones para asegurar el movimiento correcto del agente:\n",
    "<ul>\n",
    "    <li> Cuando se cumpla la siguiente condicion se movera al Este $$x_1\\overline{x_2}$$</li>\n",
    "    <li> Cuando se cumpla la siguiente condicion se movera al Sur $$x_2\\overline{x_3}$$</li>\n",
    "    <li> Cuando se cumpla la siguiente condicion se movera al Oeste $$x_3\\overline{x_4}$$</li>\n",
    "    <li> Cuando se cumpla la siguiente condicion se movera al Norte $$x_4\\overline{x_1}$$</li>\n",
    "    <li> Cuando no se cumpla ninguna condicion se movera al Norte </li>\n",
    "</ul>\n",
    "\n",
    "Todas estas condiciones pueden ser representadas mediante la siguiente unidad umbralizada en la cual se plasma el caso 2:\n",
    "\n",
    "![Unidad_Umbralizada](unidadum.png)\n",
    "\n",
    "Esta unidad puede ser utilizada para los casos 2,3 ,4 y 5"
   ]
  },
  {
   "cell_type": "markdown",
   "metadata": {},
   "source": [
    "## Implementacion de funciones en com&uacute;n para ambos agentes"
   ]
  },
  {
   "cell_type": "markdown",
   "metadata": {},
   "source": [
    "### Genera_Ambiente_Conocido()\n",
    "Esta funcion genera el ambiente descrito al comienzo de este NoteBook\n",
    "\n",
    "![title](enviroment.png)"
   ]
  },
  {
   "cell_type": "code",
   "execution_count": 79,
   "metadata": {},
   "outputs": [],
   "source": [
    "def Genera_Ambiente_Conocido():\n",
    "    return np.array(\n",
    "[[0,0,0,0,0,0,0,0,0,0,0,1,1,1],\n",
    "[0,0,0,0,0,0,0,0,0,0,0,1,1,1],\n",
    "[0,0,0,0,0,0,0,0,0,0,0,1,1,1],\n",
    "[0,0,0,0,0,0,0,0,0,0,0,1,1,1],\n",
    "[0,0,1,1,1,1,1,1,0,0,0,0,0,0],\n",
    "[0,0,1,1,0,0,1,1,0,0,0,0,0,0],\n",
    "[0,0,1,1,0,0,1,1,0,0,0,0,0,0],\n",
    "[0,0,0,0,0,0,0,0,0,0,0,1,1,1],\n",
    "[0,0,0,0,0,0,0,0,0,0,0,1,1,1],\n",
    "[0,0,0,0,0,1,1,1,0,0,0,1,1,1],\n",
    "[0,0,0,0,0,1,1,1,0,0,0,1,1,1],\n",
    "[0,0,0,0,0,1,1,1,0,0,0,1,1,1]])"
   ]
  },
  {
   "cell_type": "markdown",
   "metadata": {},
   "source": [
    "### Get_Status(pos,enviroment)\n",
    "Esta funci&oacute;n obtiene el estado que percibe el agente, podria considerarse como un sensor\n",
    "\n",
    "Recibe:\n",
    "<ul>\n",
    "    <li> La posici&oacute;n en la que se encuentra el agente </li>\n",
    "    <li> El ambiente </li>\n",
    "</ul>\n",
    "\n",
    "Esta funci&oacute;n regresa\n",
    "<ul>\n",
    "    <li> El estado </li>\n",
    "</ul>"
   ]
  },
  {
   "cell_type": "code",
   "execution_count": 80,
   "metadata": {},
   "outputs": [],
   "source": [
    "def Get_Status(pos,enviroment):\n",
    "    S = []\n",
    "    vals = [[-1,-1],[-1,0],[-1,1],[0,1],[1,1],[1,0],[1,-1],[0,-1]]\n",
    "    for p in vals:\n",
    "        if (pos[0] + p[0] >= 0  and pos[1] + p[1] >= 0 )and (pos[0] + p[0] < len(enviroment) and pos[1] + p[1] < len(enviroment[1]) ):\n",
    "            S.append(enviroment[pos[0] + p[0]][pos[1] + p[1]])\n",
    "        else:\n",
    "            S.append(1)\n",
    "    return S"
   ]
  },
  {
   "cell_type": "markdown",
   "metadata": {},
   "source": [
    "### TLU( S,W, teta)\n",
    "Esta funcion representa la unidad umbralizada.\n",
    "Recibe:\n",
    "<ul> \n",
    "    <li> El estado que percibe el agente </li>\n",
    "    <li> Los pesos de acuerdo al caso al que este evaluando donde:\n",
    "        <ul>\n",
    "            <li> Los valores en el estado que nos interesa saber que se cumplan tendran el valor de 1</li>\n",
    "            <li> Los valores en el estado que nos interesa saber que no se cumplan tendran el valor de -1 </li>\n",
    "            <li> Los demas tendran un valor de 0 </li>\n",
    "        </ul>\n",
    "    </li>\n",
    "    <li> El umbral que debe superar </li>\n",
    "</ul>\n",
    "\n",
    "Regresa: \n",
    "<ul> \n",
    "    <li> Verdadero cuando se supera el umbral </li>\n",
    "    <li> Falso en caso contrario</li>\n",
    "</ul>"
   ]
  },
  {
   "cell_type": "code",
   "execution_count": 81,
   "metadata": {},
   "outputs": [],
   "source": [
    "def TLU(S,W,teta):\n",
    "        res = 0\n",
    "        p = S * W\n",
    "        res = np.sum(p)\n",
    "        \n",
    "        if res >= teta:\n",
    "            return True\n",
    "        else:\n",
    "            return False"
   ]
  },
  {
   "cell_type": "markdown",
   "metadata": {},
   "source": [
    "### Genera_Movimiento(agente,mov)\n",
    "Esta funcion realiza el movimiento del agente.\n",
    "\n",
    "Recibe:\n",
    "<ul>\n",
    "    <li> El agente </li>\n",
    "    <li> El movimiento que se aplicar&aacute;  </li>\n",
    "</ul>\n",
    "\n",
    "Regresa:\n",
    "<ul>\n",
    "    <li> El agente con su nueva posici&oacute;n </li>\n",
    "</ul>\n"
   ]
  },
  {
   "cell_type": "code",
   "execution_count": 89,
   "metadata": {},
   "outputs": [],
   "source": [
    "def Genera_Movimiento(agente,mov):\n",
    "\n",
    "    agente[0] += mov[1]\n",
    "    agente[1] += mov[0]\n",
    "    plt.scatter(agente[1],agente[0],c=\"WHITE\")\n",
    "    return agente"
   ]
  },
  {
   "cell_type": "markdown",
   "metadata": {},
   "source": [
    "### Genera_Agentes( cant )\n",
    "Esta funcion genera una cantidad dada de agentes"
   ]
  },
  {
   "cell_type": "code",
   "execution_count": 118,
   "metadata": {},
   "outputs": [],
   "source": [
    "def Genera_Agentes(cant):\n",
    "    agentes = []\n",
    "    for i in range(cant):\n",
    "        x = np.random.randint(low = 0, high = 11)\n",
    "        y = np.random.randint(low = 0, high = 13)\n",
    "        new_ag = [x,y]\n",
    "        agentes.append(new_ag)\n",
    "    return agentes"
   ]
  },
  {
   "cell_type": "markdown",
   "metadata": {},
   "source": [
    "## Implementacion del Agente Evita Obstaculos"
   ]
  },
  {
   "cell_type": "code",
   "execution_count": 139,
   "metadata": {},
   "outputs": [],
   "source": [
    "def AgenteEvitaObstaculos(S):\n",
    "    mov = [0,0]\n",
    "    \n",
    "    if TLU(S[1],[-2],0):\n",
    "\n",
    "        mov = [0,-1]\n",
    "        \n",
    "    elif TLU(S[3],[-2],0):\n",
    "\n",
    "        mov = [1,0]\n",
    "        \n",
    "    elif TLU(S[5],[-2],0):\n",
    "\n",
    "        mov = [0,1]\n",
    "        \n",
    "    elif TLU(S[7],[-2],0):\n",
    "\n",
    "        mov = [-1,0]\n",
    "\n",
    "    return mov"
   ]
  },
  {
   "cell_type": "markdown",
   "metadata": {},
   "source": [
    "## Resultados del Agente Evita Obstaculos\n",
    "\n",
    "Notas:\n",
    "<ul>\n",
    "    <li> La posicion inicial del agente esta marcada por un scatter azul </li>\n",
    "    <li> Es posible que inicien dentro de un obstaculo debido a la posicion aleatoria </li>\n",
    "</ul>"
   ]
  },
  {
   "cell_type": "code",
   "execution_count": 138,
   "metadata": {},
   "outputs": [
    {
     "data": {
      "image/png": "[encoded data removed]",
      "text/plain": [
       "<Figure size 720x720 with 6 Axes>"
      ]
     },
     "metadata": {
      "needs_background": "light"
     },
     "output_type": "display_data"
    }
   ],
   "source": [
    "Agentes = Genera_Agentes(6)\n",
    "for i,agente in enumerate(Agentes):\n",
    "    plt.subplot(3,2,i+1)\n",
    "    plt.axis(\"off\")\n",
    "    enviromenta = Genera_Ambiente_Conocido()\n",
    "    plt.scatter(agente[1],agente[0])\n",
    "    for i in range(10):\n",
    "        Status = Get_Status(agente,enviromenta)\n",
    "        mov = AgenteEvitaObstaculos(Status)\n",
    "        agente = Genera_Movimiento(agente,mov)\n",
    "    enviromenta[agente[0],agente[1]] = 3\n",
    "    plt.imshow(enviromenta)"
   ]
  },
  {
   "cell_type": "markdown",
   "metadata": {},
   "source": [
    "## Implementacion del Agente Sigue Bordes"
   ]
  },
  {
   "cell_type": "code",
   "execution_count": 144,
   "metadata": {},
   "outputs": [],
   "source": [
    "def AgenteSigueBordes(enviroment,status):\n",
    "    W = np.array([[-2,1,-2,1,-2,1,-2,1],[0,1,1,-2,-2,0,0,0],[0,0,0,1,1,-2,-2,0],[-2,0,0,0,1,1,0,-2],[0,-2,-2,0,0,1,1,0]])\n",
    "    teta = .5\n",
    "    mov = [0,0]\n",
    "    \n",
    "    \n",
    "    if TLU(status,W[0],teta):\n",
    "        \n",
    "        print \"Noop\"\n",
    "    \n",
    "    elif TLU(status,W[1],teta):\n",
    "\n",
    "        mov = [1,0]\n",
    "    \n",
    "    elif TLU(status,W[2],teta):\n",
    "\n",
    "        mov = [0,1]\n",
    "    \n",
    "    elif TLU(status,W[3],teta):\n",
    "\n",
    "        mov = [-1,0]\n",
    "    \n",
    "    elif TLU(status,W[4],teta):\n",
    "\n",
    "        mov = [0,-1]\n",
    "        \n",
    "    else:\n",
    "        mov = [0,-1]\n",
    "\n",
    "    return mov"
   ]
  },
  {
   "cell_type": "markdown",
   "metadata": {},
   "source": [
    "## Resultados del Agente Sigue Bordes\n",
    "Notas:\n",
    "<ul>\n",
    "    <li> La posicion inicial del agente esta marcada por un scatter azul </li>\n",
    "    <li> Es posible que inicien dentro de un obstaculo debido a la posicion aleatoria </li>\n",
    "</ul>"
   ]
  },
  {
   "cell_type": "code",
   "execution_count": 148,
   "metadata": {},
   "outputs": [
    {
     "data": {
      "image/png": "[encoded data removed]",
      "text/plain": [
       "<Figure size 720x720 with 6 Axes>"
      ]
     },
     "metadata": {
      "needs_background": "light"
     },
     "output_type": "display_data"
    }
   ],
   "source": [
    "Agentes = Genera_Agentes(6)\n",
    "\n",
    "for i,agente in enumerate(Agentes):\n",
    "    plt.axis(\"off\")\n",
    "    plt.subplot(3,2,i+1)\n",
    "    enviromenta = Genera_Ambiente_Conocido()\n",
    "    plt.scatter(agente[1],agente[0])\n",
    "    for i in range(10):\n",
    "        Status = Get_Status(agente,enviromenta)\n",
    "        mov = AgenteSigueBordes(enviromenta,Status)\n",
    "        agente = Genera_Movimiento(agente,mov)\n",
    "    enviromenta[agente[0],agente[1]] = 3\n",
    "    plt.imshow(enviromenta)"
   ]
  }
 ],
 "metadata": {
  "kernelspec": {
   "display_name": "Python 2",
   "language": "python",
   "name": "python2"
  },
  "language_info": {
   "codemirror_mode": {
    "name": "ipython",
    "version": 2
   },
   "file_extension": ".py",
   "mimetype": "text/x-python",
   "name": "python",
   "nbconvert_exporter": "python",
   "pygments_lexer": "ipython2",
   "version": "2.7.16"
  }
 },
 "nbformat": 4,
 "nbformat_minor": 2
}
