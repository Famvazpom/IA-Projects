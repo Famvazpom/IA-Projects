{
 "cells": [
  {
   "cell_type": "code",
   "execution_count": 1,
   "metadata": {},
   "outputs": [],
   "source": [
    "import numpy as np\n",
    "import random as rd\n",
    "import queue "
   ]
  },
  {
   "cell_type": "markdown",
   "metadata": {},
   "source": [
    "### Esta funcion genera un estado aleatorio para el 8-Puzzle"
   ]
  },
  {
   "cell_type": "code",
   "execution_count": 20,
   "metadata": {},
   "outputs": [],
   "source": [
    "class Nodo:\n",
    "    board = []\n",
    "    posEmpty = []\n",
    "    \n",
    "    parent = False\n",
    "    def __init__(self,boardA,pos0,parent):\n",
    "        self.board = boardA\n",
    "        self.posEmpty = pos0\n",
    "        self.parent = parent\n",
    "        self.FindNeighbours()\n",
    "        \n",
    "    def FindNeighbours(self):\n",
    "        self.neighbours = []\n",
    "        nboard = []\n",
    "        vals = [[0,-1],[0,1],[1,0],[-1,0]]\n",
    "        for i in vals:\n",
    "            nboard = self.board.copy()\n",
    "\n",
    "            x = self.posEmpty[0] + i[0]\n",
    "            y = self.posEmpty[1] + i[1]\n",
    "            if x >=0 and y >=0 and x < 3 and y < 3:\n",
    "\n",
    "                temp = self.board[x][y]\n",
    "                nboard[x][y] = nboard[self.posEmpty[0]][self.posEmpty[1]]\n",
    "                nboard[self.posEmpty[0]][self.posEmpty[1]] = temp\n",
    "                self.neighbours.append([nboard,[x,y]])\n"
   ]
  },
  {
   "cell_type": "code",
   "execution_count": 3,
   "metadata": {},
   "outputs": [],
   "source": [
    "def onState(state,actual):\n",
    "    if len(state) >0:\n",
    "        \n",
    "        for node in state:\n",
    "            if isObjetive(node,actual):\n",
    "                return True\n",
    "                break\n",
    "        \n",
    "    return False"
   ]
  },
  {
   "cell_type": "code",
   "execution_count": 4,
   "metadata": {},
   "outputs": [],
   "source": [
    "def FindEmpty(board):\n",
    "    for row in range(0,3):\n",
    "        for col in range(0,3):\n",
    "            if board[row,col] == 0:\n",
    "                return [row,col]"
   ]
  },
  {
   "cell_type": "code",
   "execution_count": 5,
   "metadata": {},
   "outputs": [],
   "source": [
    "def Crea_Estado_Aleatorio():\n",
    "    lista = range(0,9)\n",
    "    lista = rd.sample(lista,k=9)\n",
    "    esIn = np.array([lista[0:3],lista[3:6],lista[6:10]])\n",
    "    posEmpty = FindEmpty(esIn)\n",
    "    esIn = Nodo(esIn,posEmpty,False)\n",
    "\n",
    "    return esIn"
   ]
  },
  {
   "cell_type": "code",
   "execution_count": 6,
   "metadata": {},
   "outputs": [],
   "source": [
    "def isObjetive(esAct,esObj):\n",
    "    for row in range(0,3):\n",
    "        for col in range(0,3):\n",
    "            if esAct.board[row,col] != esObj[row,col]:\n",
    "                return False\n",
    "    return True"
   ]
  },
  {
   "cell_type": "code",
   "execution_count": null,
   "metadata": {},
   "outputs": [],
   "source": []
  },
  {
   "cell_type": "code",
   "execution_count": null,
   "metadata": {},
   "outputs": [],
   "source": [
    "\n",
    "\n",
    "\n"
   ]
  },
  {
   "cell_type": "code",
   "execution_count": null,
   "metadata": {},
   "outputs": [
    {
     "name": "stdout",
     "output_type": "stream",
     "text": [
      "[[1 6 8]\n",
      " [3 7 5]\n",
      " [0 2 4]]\n"
     ]
    }
   ],
   "source": [
    "estado = []\n",
    "explored = []\n",
    "esObj = np.array([[1,2,3],[4,5,6],[7,8,0]])\n",
    "prueba = Nodo(esObj.copy(),[0,0],False)\n",
    "esSt = Crea_Estado_Aleatorio()\n",
    "\n",
    "q = queue.Queue()\n",
    "\n",
    "estado.append(esSt)\n",
    "\n",
    "q.put(esSt)\n",
    "\n",
    "print esSt.board\n",
    "node_obj = None\n",
    "\n",
    "explored.append(node)\n",
    "while not q.empty():\n",
    "    actual = q.get()\n",
    "    \n",
    "    if isObjetive(actual,esObj):\n",
    "        print \"Yeii\"\n",
    "        node_obj = actual\n",
    "        \n",
    "        break\n",
    "    \n",
    "    for vec in actual.neighbours:\n",
    "        if not onState(explored,vec[0]):\n",
    "            node = Nodo(vec[0],vec[1],actual)\n",
    "            q.put(node)\n",
    "        else:\n",
    "            print \"Already\"\n",
    "\n",
    "            \n"
   ]
  },
  {
   "cell_type": "code",
   "execution_count": 40,
   "metadata": {},
   "outputs": [
    {
     "data": {
      "text/plain": [
       "True"
      ]
     },
     "execution_count": 40,
     "metadata": {},
     "output_type": "execute_result"
    }
   ],
   "source": [
    "q.empty()\n"
   ]
  }
 ],
 "metadata": {
  "kernelspec": {
   "display_name": "Python 2",
   "language": "python",
   "name": "python2"
  },
  "language_info": {
   "codemirror_mode": {
    "name": "ipython",
    "version": 2
   },
   "file_extension": ".py",
   "mimetype": "text/x-python",
   "name": "python",
   "nbconvert_exporter": "python",
   "pygments_lexer": "ipython2",
   "version": "2.7.16"
  }
 },
 "nbformat": 4,
 "nbformat_minor": 2
}
