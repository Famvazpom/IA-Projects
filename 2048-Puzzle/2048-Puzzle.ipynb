{
 "cells": [
  {
   "cell_type": "code",
   "execution_count": 10,
   "metadata": {},
   "outputs": [],
   "source": [
    "import numpy as np\n",
    "import collections \n",
    "import random as rd\n"
   ]
  },
  {
   "cell_type": "code",
   "execution_count": 70,
   "metadata": {},
   "outputs": [],
   "source": [
    "class puzzle:\n",
    "    \n",
    "    board = None\n",
    "    parent = None\n",
    "    depth = None\n",
    "    \n",
    "    def __init__(self,board,parent=None,depth=0):\n",
    "        self.board = board\n",
    "        self.parent = parent\n",
    "        self.depth = depth\n"
   ]
  },
  {
   "cell_type": "code",
   "execution_count": 79,
   "metadata": {},
   "outputs": [
    {
     "name": "stdout",
     "output_type": "stream",
     "text": [
      "[[0. 0. 0. 2.]\n",
      " [0. 0. 0. 0.]\n",
      " [0. 0. 0. 0.]\n",
      " [0. 0. 0. 0.]]\n"
     ]
    }
   ],
   "source": [
    "def CreaEstado():\n",
    "    board = np.zeros((4,4))\n",
    "    randpos = (rd.randint(0,3),rd.randint(0,3))\n",
    "    board[randpos] = 2\n",
    "    \n",
    "    return puzzle(board)\n",
    "    \n",
    "startObj = CreaEstado()\n",
    "print startObj.board"
   ]
  }
 ],
 "metadata": {
  "kernelspec": {
   "display_name": "Python 2",
   "language": "python",
   "name": "python2"
  },
  "language_info": {
   "codemirror_mode": {
    "name": "ipython",
    "version": 2
   },
   "file_extension": ".py",
   "mimetype": "text/x-python",
   "name": "python",
   "nbconvert_exporter": "python",
   "pygments_lexer": "ipython2",
   "version": "2.7.16"
  }
 },
 "nbformat": 4,
 "nbformat_minor": 2
}
