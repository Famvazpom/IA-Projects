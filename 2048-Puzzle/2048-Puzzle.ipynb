{
 "cells": [
  {
   "cell_type": "code",
   "execution_count": 1,
   "metadata": {},
   "outputs": [],
   "source": [
    "import numpy as np\n",
    "import collections \n",
    "import random as rd\n"
   ]
  },
  {
   "cell_type": "code",
   "execution_count": 155,
   "metadata": {},
   "outputs": [],
   "source": [
    "class puzzle:\n",
    "    NORTH ,SOUTH,EAST ,WEST = 1,2,3,4\n",
    "    board = None\n",
    "    parent = None\n",
    "    depth = None\n",
    "    neighbours = None\n",
    "    \n",
    "    def __init__(self,board,parent=None,depth=0):\n",
    "        self.board = board\n",
    "        self.parent = parent\n",
    "        self.depth = depth\n",
    "    \n",
    "    def getMoves(self):\n",
    "        \n",
    "        return\n",
    "    \n",
    "    #Funcion que realiza los merges de los numeros iguales\n",
    "    def mergeNumbers(self,obj,dest):\n",
    "        \n",
    "        if self.board[obj] == self.board[dest]:\n",
    "            self.board[dest] = self.board[obj] + self.board[dest]\n",
    "            self.board[obj] = 0\n",
    "            return True\n",
    "        return False\n",
    "            \n",
    "    \n",
    "    \n",
    "    #Funcion que realiza los movimientos de las fichas\n",
    "    def moveBoard(self,move):\n",
    "        board = self.board.copy()\n",
    "        moves = []\n",
    "        \n",
    "        \n",
    "        if move == self.NORTH:\n",
    "            #Recorremos las fichas de arriba hacia abajo\n",
    "            for i in range(1,4):\n",
    "                for j in range(4):\n",
    "                    moves.append([(i,j),(i-1,j)])\n",
    "        \n",
    "        if move == self.SOUTH:\n",
    "            #Recorremos las fichas de abajo hacia arriba\n",
    "            for i in reversed(range(0,3)):\n",
    "                for j in range(3):\n",
    "                    moves.append([(i,j),(i+1,j)])\n",
    "            \n",
    "        if move == self.EAST:\n",
    "            #Recorremos las fichas de derecha a izquierda\n",
    "            for j in reversed(range(0,3)):\n",
    "                for i in range(4):\n",
    "                    moves.append([(i,j),(i,j+1)])\n",
    "                    \n",
    "        if move == self.WEST:\n",
    "            #Recorremos las fichas de izquierda a derecha\n",
    "            for j in range(1,3):\n",
    "                for i in range(4):\n",
    "                    moves.append([(i,j),(i,j-1)])\n",
    "        \n",
    "        print moves\n",
    "        \n",
    "        \n",
    "        \n",
    "        \n",
    "        \n",
    "    "
   ]
  },
  {
   "cell_type": "code",
   "execution_count": 159,
   "metadata": {},
   "outputs": [
    {
     "name": "stdout",
     "output_type": "stream",
     "text": [
      "[[0. 0. 4. 0.]\n",
      " [0. 0. 2. 0.]\n",
      " [0. 0. 0. 0.]\n",
      " [0. 0. 0. 0.]]\n",
      "[[(1, 0), (0, 0)], [(1, 1), (0, 1)], [(1, 2), (0, 2)], [(1, 3), (0, 3)], [(2, 0), (1, 0)], [(2, 1), (1, 1)], [(2, 2), (1, 2)], [(2, 3), (1, 3)], [(3, 0), (2, 0)], [(3, 1), (2, 1)], [(3, 2), (2, 2)], [(3, 3), (2, 3)]]\n",
      "None\n"
     ]
    }
   ],
   "source": [
    "def CreaEstado():\n",
    "    board = np.zeros((4,4))\n",
    "    possvalues = [2,4]\n",
    "    for i in range(2):\n",
    "        randpos = (rd.randint(0,3),rd.randint(0,3))\n",
    "        randvalue = rd.randint(0,1)\n",
    "        if board[randpos] == 0:\n",
    "            board[randpos] = possvalues[randvalue]\n",
    "        else:\n",
    "            i-=1\n",
    "    \n",
    "    return puzzle(board)\n",
    "\n",
    "startObj = CreaEstado()\n",
    "print startObj.board\n",
    "print startObj.moveBoard(1)"
   ]
  },
  {
   "cell_type": "code",
   "execution_count": null,
   "metadata": {},
   "outputs": [],
   "source": []
  }
 ],
 "metadata": {
  "kernelspec": {
   "display_name": "Python 2",
   "language": "python",
   "name": "python2"
  },
  "language_info": {
   "codemirror_mode": {
    "name": "ipython",
    "version": 2
   },
   "file_extension": ".py",
   "mimetype": "text/x-python",
   "name": "python",
   "nbconvert_exporter": "python",
   "pygments_lexer": "ipython2",
   "version": "2.7.16"
  }
 },
 "nbformat": 4,
 "nbformat_minor": 2
}
