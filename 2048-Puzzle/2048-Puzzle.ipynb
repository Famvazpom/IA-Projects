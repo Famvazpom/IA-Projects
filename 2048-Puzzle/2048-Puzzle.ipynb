{
 "cells": [
  {
   "cell_type": "code",
   "execution_count": 1,
   "metadata": {},
   "outputs": [],
   "source": [
    "import numpy as np\n",
    "import collections \n",
    "import random as rd\n"
   ]
  },
  {
   "cell_type": "code",
   "execution_count": 15,
   "metadata": {},
   "outputs": [],
   "source": [
    "class puzzle:\n",
    "    NORTH ,EAST ,SOUTH ,WEST = 1,2,3,4\n",
    "    board = None\n",
    "    parent = None\n",
    "    depth = None\n",
    "    neighbours = None\n",
    "    \n",
    "    def __init__(self,board,parent=None,depth=0):\n",
    "        self.board = board\n",
    "        self.parent = parent\n",
    "        self.depth = depth\n",
    "    \n",
    "    def getMoves(self):\n",
    "        \n",
    "        return\n",
    "    \n",
    "    def moveBoard(self,move):\n",
    "        board = self.board.copy()\n",
    "        \n",
    "        if move == self.NORTH:\n",
    "            for i in reversed(range(3)):\n",
    "                for j in reversed(range(3)):\n",
    "                    \n",
    "                    print i,j\n",
    "        \n",
    "        \n",
    "        \n",
    "        \n",
    "        \n",
    "    "
   ]
  },
  {
   "cell_type": "code",
   "execution_count": 16,
   "metadata": {},
   "outputs": [
    {
     "name": "stdout",
     "output_type": "stream",
     "text": [
      "[[0. 0. 0. 0.]\n",
      " [0. 0. 0. 0.]\n",
      " [0. 2. 0. 0.]\n",
      " [0. 0. 0. 0.]]\n",
      "2 2\n",
      "2 1\n",
      "2 0\n",
      "1 2\n",
      "1 1\n",
      "1 0\n",
      "0 2\n",
      "0 1\n",
      "0 0\n",
      "None\n"
     ]
    }
   ],
   "source": [
    "def CreaEstado():\n",
    "    board = np.zeros((4,4))\n",
    "    randpos = (rd.randint(0,3),rd.randint(0,3))\n",
    "    board[randpos] = 2\n",
    "    \n",
    "    return puzzle(board)\n",
    "    \n",
    "startObj = CreaEstado()\n",
    "print startObj.board\n",
    "print startObj.moveBoard(1)"
   ]
  }
 ],
 "metadata": {
  "kernelspec": {
   "display_name": "Python 2",
   "language": "python",
   "name": "python2"
  },
  "language_info": {
   "codemirror_mode": {
    "name": "ipython",
    "version": 2
   },
   "file_extension": ".py",
   "mimetype": "text/x-python",
   "name": "python",
   "nbconvert_exporter": "python",
   "pygments_lexer": "ipython2",
   "version": "2.7.16"
  }
 },
 "nbformat": 4,
 "nbformat_minor": 2
}
