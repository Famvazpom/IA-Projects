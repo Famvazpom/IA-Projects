{
 "cells": [
  {
   "cell_type": "code",
   "execution_count": 6,
   "metadata": {},
   "outputs": [],
   "source": [
    "import numpy as np\n",
    "import csv"
   ]
  },
  {
   "cell_type": "code",
   "execution_count": 52,
   "metadata": {},
   "outputs": [
    {
     "name": "stdout",
     "output_type": "stream",
     "text": [
      "[0. 1. 0.] | [7. 9. 0.] | [5. 4. 0.]\n",
      "[0. 0. 0.] | [0. 6. 0.] | [0. 0. 0.]\n",
      "[0. 6. 0.] | [0. 0. 4.] | [0. 9. 0.]\n",
      "------------------------------------\n",
      "[2. 0. 0.] | [5. 0. 0.] | [0. 0. 1.]\n",
      "[0. 0. 9.] | [0. 0. 0.] | [0. 0. 0.]\n",
      "[7. 0. 0.] | [0. 0. 0.] | [8. 2. 5.]\n",
      "------------------------------------\n",
      "[0. 0. 0.] | [0. 0. 0.] | [0. 1. 0.]\n",
      "[0. 4. 1.] | [0. 0. 2.] | [6. 0. 0.]\n",
      "[5. 0. 0.] | [3. 0. 0.] | [0. 0. 0.]\n"
     ]
    }
   ],
   "source": [
    "class Sudoku:\n",
    "    \n",
    "    board = None\n",
    "    \n",
    "    def __init__(self):\n",
    "        \n",
    "        self.board = np.zeros((9,9))\n",
    "        with open(\"Sudoku.csv\") as csv_file:\n",
    "            csv_reader = csv.reader(csv_file,delimiter = ',')\n",
    "            \n",
    "            for i,row in enumerate(csv_reader):\n",
    "                for j,number in enumerate(row[1:]):\n",
    "                    if number != '':\n",
    "                        self.board[i,j] = number\n",
    "\n",
    "    def printBoard(self):\n",
    "        \n",
    "        for i in range(0,9):\n",
    "            print self.board[i,0:3], \"|\",self.board[i,3:6],\"|\",self.board[i,6:9]\n",
    "            if (i+1)%3 == 0 and i!= 8:\n",
    "                print \"------------------------------------\"\n",
    "    \n",
    "    \n",
    "game = Sudoku()\n",
    "game.printBoard()"
   ]
  }
 ],
 "metadata": {
  "kernelspec": {
   "display_name": "Python 2",
   "language": "python",
   "name": "python2"
  },
  "language_info": {
   "codemirror_mode": {
    "name": "ipython",
    "version": 2
   },
   "file_extension": ".py",
   "mimetype": "text/x-python",
   "name": "python",
   "nbconvert_exporter": "python",
   "pygments_lexer": "ipython2",
   "version": "2.7.16"
  }
 },
 "nbformat": 4,
 "nbformat_minor": 2
}
