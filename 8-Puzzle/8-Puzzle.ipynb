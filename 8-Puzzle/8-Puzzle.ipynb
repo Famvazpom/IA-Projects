{
 "cells": [
  {
   "cell_type": "code",
   "execution_count": 32,
   "metadata": {},
   "outputs": [],
   "source": [
    "import numpy as np\n",
    "import random as rd\n",
    "import Queue  as queue\n",
    "import collections\n",
    "import time"
   ]
  },
  {
   "cell_type": "markdown",
   "metadata": {},
   "source": [
    "### Para este proyecto se utiliza la clase nodo para poder realizar las busquedas de forma mas sencilla"
   ]
  },
  {
   "cell_type": "code",
   "execution_count": 33,
   "metadata": {},
   "outputs": [],
   "source": [
    "class Nodo:\n",
    "\n",
    "    def __init__(self,board,pos0,parent=False):\n",
    "        self.board = board\n",
    "        self.posEmpty = pos0\n",
    "        self.parent = parent\n",
    "        self.FindNeighbours()\n",
    "    \n",
    "        \n",
    "    def FindNeighbours(self):\n",
    "        self.neighbours = []\n",
    "        nboard = []\n",
    "\n",
    "        vals = [[0,-1],[0,1],[1,0],[-1,0]]\n",
    "        for i in vals:\n",
    "            nboard = self.board.copy()\n",
    "            band = False\n",
    "            x = self.posEmpty[0] + i[0]\n",
    "            y = self.posEmpty[1] + i[1]\n",
    "            if x >=0 and y >=0 and x < 3 and y < 3:\n",
    "                temp = self.board[x][y]\n",
    "                nboard[x][y] = nboard[self.posEmpty[0]][self.posEmpty[1]]\n",
    "                nboard[self.posEmpty[0]][self.posEmpty[1]] = temp\n",
    "                if self.parent:\n",
    "                    band = isObjetive(self.parent,nboard)\n",
    "                if not band:\n",
    "                    self.neighbours.append([nboard,[x,y],self])\n",
    "    def status(self):\n",
    "        return str(self.board)\n",
    "    \n",
    "    def getSequence(self):\n",
    "        apc = self\n",
    "        seq = []\n",
    "        while apc:\n",
    "            seq.append(apc)\n",
    "            apc = apc.parent\n",
    "        return reversed(seq)"
   ]
  },
  {
   "cell_type": "markdown",
   "metadata": {},
   "source": [
    "### FindEmpty(board)\n",
    "Esta funci&oacute;n se encarga de encontrar el espacio vacio en el mapa actual "
   ]
  },
  {
   "cell_type": "code",
   "execution_count": 34,
   "metadata": {},
   "outputs": [],
   "source": [
    "def FindEmpty(board):\n",
    "    for row in range(0,3):\n",
    "        for col in range(0,3):\n",
    "            if board[row,col] == 0:\n",
    "                return [row,col]"
   ]
  },
  {
   "cell_type": "markdown",
   "metadata": {},
   "source": [
    "### Esta funcion genera un estado aleatorio para el 8-Puzzle"
   ]
  },
  {
   "cell_type": "code",
   "execution_count": 35,
   "metadata": {},
   "outputs": [],
   "source": [
    "def Crea_Estado_Aleatorio():\n",
    "    lista = range(0,9)\n",
    "    lista = rd.sample(lista,k=9)\n",
    "    esIn = np.array([lista[0:3],lista[3:6],lista[6:10]])\n",
    "    posEmpty = FindEmpty(esIn)\n",
    "    esIn = Nodo(esIn,posEmpty)\n",
    "\n",
    "    return esIn"
   ]
  },
  {
   "cell_type": "markdown",
   "metadata": {},
   "source": [
    "### Esta funcion verifica si el estado actual es el objetivo"
   ]
  },
  {
   "cell_type": "code",
   "execution_count": 36,
   "metadata": {},
   "outputs": [],
   "source": [
    "def isObjetive(esAct,esObj):\n",
    "    return np.array_equal(esAct.board,esObj)"
   ]
  },
  {
   "cell_type": "markdown",
   "metadata": {},
   "source": [
    "### Solvable(start)\n",
    "Ya que se generan estados aleatorios es necesario verificar si el estado inicial es posible de resolver <br>\n",
    "Para eso se calcula la cantidad de inversiones en el estado. <br>\n",
    "\n",
    "Entiendase una inversi&oacute;n como un par de elementos que estan invertidos en el mapa con respecto al estado objetivo, por ejemplo:<br>\n",
    "![title](8puzzle.png)\n",
    "\n",
    "En el mapa izquierdo anterior tiene 10 inversiones y el derecho tiene 11, lo que hace un mapa posible de resolver es que tenga un n&uacute;mero par de inversiones."
   ]
  },
  {
   "cell_type": "code",
   "execution_count": 37,
   "metadata": {},
   "outputs": [],
   "source": [
    "\n",
    "def Solvable(start):\n",
    "    count = 0\n",
    "    tiles = [start.board[0][0],start.board[0][1],start.board[0][2],\n",
    "     start.board[1][0],start.board[1][1],start.board[1][2],\n",
    "     start.board[2][0],start.board[2][1],start.board[2][2]]\n",
    "\n",
    "    \n",
    "    for i in range(9):\n",
    "        for j in range(i+1,9):\n",
    "            if tiles[j] >0 and tiles[i] > 0 and tiles[i] > tiles[j]:\n",
    "                count += 1\n",
    "    return (count%2 == 0)"
   ]
  },
  {
   "cell_type": "markdown",
   "metadata": {},
   "source": [
    "### DFS(start,obj)"
   ]
  },
  {
   "cell_type": "code",
   "execution_count": 38,
   "metadata": {},
   "outputs": [],
   "source": [
    "##DFS\n",
    "def DFS(start,obj):\n",
    "    maxnodes = 0\n",
    "    node_obj = None\n",
    "    explored = set()\n",
    "    estado = collections.deque([start])\n",
    "    explored.add(start.status())\n",
    "\n",
    "    band = Solvable(start)\n",
    "    while estado and band:\n",
    "        actual = estado.pop()\n",
    "\n",
    "        if isObjetive(actual,obj):\n",
    "            print \"Yeii\"\n",
    "            return actual.getSequence(),len(explored)\n",
    "        \n",
    "        for vec in actual.neighbours:\n",
    "\n",
    "            newVec = Nodo(vec[0],vec[1],vec[2])\n",
    "            \n",
    "            if newVec.status() not in explored:\n",
    "                estado.appendleft(newVec)\n",
    "                explored.add(newVec.status())\n",
    "        if len(estado) > maxnodes:\n",
    "            maxnode = len(estado)\n",
    "            \n",
    "    return False\n"
   ]
  },
  {
   "cell_type": "markdown",
   "metadata": {},
   "source": [
    "### BFS(start,obj)"
   ]
  },
  {
   "cell_type": "code",
   "execution_count": 39,
   "metadata": {},
   "outputs": [],
   "source": [
    "def BFS(start,obj):\n",
    "    maxnodes = 0\n",
    "    node_obj = None\n",
    "    explored = set()\n",
    "    estado = collections.deque([start])\n",
    "    explored.add(start.status())\n",
    "\n",
    "    band = Solvable(start)\n",
    "    while estado and band:\n",
    "        actual = estado.pop()\n",
    "\n",
    "        if isObjetive(actual,obj):\n",
    "            print \"Yeii\"\n",
    "            return actual.getSequence(),len(explored)\n",
    "        \n",
    "        for vec in actual.neighbours:\n",
    "\n",
    "            newVec = Nodo(vec[0],vec[1],vec[2])\n",
    "            \n",
    "            if newVec.status() not in explored:\n",
    "                estado.append(newVec)\n",
    "                explored.add(newVec.status())\n",
    "\n",
    "            \n",
    "    return False"
   ]
  },
  {
   "cell_type": "markdown",
   "metadata": {},
   "source": [
    "### Generamos un estado aleatorio y el estado objetivo"
   ]
  },
  {
   "cell_type": "code",
   "execution_count": 40,
   "metadata": {},
   "outputs": [
    {
     "name": "stdout",
     "output_type": "stream",
     "text": [
      "[[3 2 7]\n",
      " [8 1 5]\n",
      " [0 4 6]]\n"
     ]
    }
   ],
   "source": [
    "esObj = np.array([[1,2,3],[4,5,6],[7,8,0]])\n",
    "esSt = Crea_Estado_Aleatorio()\n",
    "print esSt.board"
   ]
  },
  {
   "cell_type": "markdown",
   "metadata": {},
   "source": [
    "### Aplicamos DFS"
   ]
  },
  {
   "cell_type": "code",
   "execution_count": 41,
   "metadata": {},
   "outputs": [
    {
     "name": "stdout",
     "output_type": "stream",
     "text": [
      "Yeii\n",
      "--- 69195 Nodos insertados al estado ---\n",
      "--- 28.6682469845 segundos ---\n",
      "[[3 2 7]\n",
      " [8 1 5]\n",
      " [0 4 6]] \n",
      "\n",
      "[[3 2 7]\n",
      " [0 1 5]\n",
      " [8 4 6]] \n",
      "\n",
      "[[3 2 7]\n",
      " [1 0 5]\n",
      " [8 4 6]] \n",
      "\n",
      "[[3 0 7]\n",
      " [1 2 5]\n",
      " [8 4 6]] \n",
      "\n",
      "[[3 7 0]\n",
      " [1 2 5]\n",
      " [8 4 6]] \n",
      "\n",
      "[[3 7 5]\n",
      " [1 2 0]\n",
      " [8 4 6]] \n",
      "\n",
      "[[3 7 5]\n",
      " [1 0 2]\n",
      " [8 4 6]] \n",
      "\n",
      "[[3 0 5]\n",
      " [1 7 2]\n",
      " [8 4 6]] \n",
      "\n",
      "[[0 3 5]\n",
      " [1 7 2]\n",
      " [8 4 6]] \n",
      "\n",
      "[[1 3 5]\n",
      " [0 7 2]\n",
      " [8 4 6]] \n",
      "\n",
      "[[1 3 5]\n",
      " [7 0 2]\n",
      " [8 4 6]] \n",
      "\n",
      "[[1 3 5]\n",
      " [7 2 0]\n",
      " [8 4 6]] \n",
      "\n",
      "[[1 3 0]\n",
      " [7 2 5]\n",
      " [8 4 6]] \n",
      "\n",
      "[[1 0 3]\n",
      " [7 2 5]\n",
      " [8 4 6]] \n",
      "\n",
      "[[1 2 3]\n",
      " [7 0 5]\n",
      " [8 4 6]] \n",
      "\n",
      "[[1 2 3]\n",
      " [7 4 5]\n",
      " [8 0 6]] \n",
      "\n",
      "[[1 2 3]\n",
      " [7 4 5]\n",
      " [0 8 6]] \n",
      "\n",
      "[[1 2 3]\n",
      " [0 4 5]\n",
      " [7 8 6]] \n",
      "\n",
      "[[1 2 3]\n",
      " [4 0 5]\n",
      " [7 8 6]] \n",
      "\n",
      "[[1 2 3]\n",
      " [4 5 0]\n",
      " [7 8 6]] \n",
      "\n",
      "[[1 2 3]\n",
      " [4 5 6]\n",
      " [7 8 0]] \n",
      "\n"
     ]
    }
   ],
   "source": [
    "node_obj = None\n",
    "start_time = time.time()\n",
    "node_obj,nodos = DFS(esSt,esObj)\n",
    "print(\"--- %s Nodos insertados al estado ---\" %nodos)\n",
    "print(\"--- %s segundos ---\" % (time.time() - start_time))\n",
    "actual = node_obj\n",
    "if node_obj:\n",
    "    for actual in node_obj:\n",
    "        print actual.board,\"\\n\"\n",
    "        actual = actual.parent\n",
    "else: \n",
    "    print \"Estado inicial imposible de resolver\\n\",esSt.board\n",
    "        "
   ]
  },
  {
   "cell_type": "markdown",
   "metadata": {},
   "source": [
    "### Aplicamos BFS"
   ]
  },
  {
   "cell_type": "code",
   "execution_count": 42,
   "metadata": {},
   "outputs": [
    {
     "name": "stdout",
     "output_type": "stream",
     "text": [
      "Yeii\n",
      "--- 110181 Nodos insertados al estado ---\n",
      "--- 42.264950037 segundos ---\n",
      "--- 58497 Nodos para el resultado --- \n"
     ]
    }
   ],
   "source": [
    "node_obj = None\n",
    "start_time = time.time()\n",
    "node_obj,nodos = BFS(esSt,esObj)\n",
    "cont = 0\n",
    "print(\"--- %s Nodos insertados al estado ---\" %nodos)\n",
    "print(\"--- %s segundos ---\" % (time.time() - start_time))\n",
    "actual = node_obj\n",
    "if node_obj:\n",
    "    for actual in node_obj:\n",
    "        cont +=1\n",
    "        actual = actual.parent\n",
    "    print \"--- %s Nodos para el resultado --- \" %cont\n",
    "else: \n",
    "    print \"Estado inicial imposible de resolver\\n\",esSt.board\n",
    "        "
   ]
  }
 ],
 "metadata": {
  "kernelspec": {
   "display_name": "Python 2",
   "language": "python",
   "name": "python2"
  },
  "language_info": {
   "codemirror_mode": {
    "name": "ipython",
    "version": 2
   },
   "file_extension": ".py",
   "mimetype": "text/x-python",
   "name": "python",
   "nbconvert_exporter": "python",
   "pygments_lexer": "ipython2",
   "version": "2.7.16"
  }
 },
 "nbformat": 4,
 "nbformat_minor": 2
}
